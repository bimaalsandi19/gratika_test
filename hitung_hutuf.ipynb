{
 "cells": [
  {
   "cell_type": "code",
   "execution_count": 59,
   "metadata": {},
   "outputs": [
    {
     "name": "stdout",
     "output_type": "stream",
     "text": [
      "Hasil:\n",
      "[\"L\":1, \"l\":2]\n"
     ]
    }
   ],
   "source": [
    "def hitung_dan_urutkan_huruf(kalimat):\n",
    "    # Menginisialisasi kamus untuk menyimpan jumlah kemunculan huruf kapital dan huruf non-kapital\n",
    "    jumlah_huruf_kapital = {}\n",
    "    jumlah_huruf_non_kapital = {}\n",
    "\n",
    "    # Menghitung jumlah kemunculan setiap huruf dalam kalimat\n",
    "    for huruf in kalimat:\n",
    "        # Mengabaikan karakter selain huruf\n",
    "        if huruf.isalpha():\n",
    "            if huruf.isupper():\n",
    "                if huruf in jumlah_huruf_kapital:\n",
    "                    jumlah_huruf_kapital[huruf] += 1\n",
    "                else:\n",
    "                    jumlah_huruf_kapital[huruf] = 1\n",
    "            else:\n",
    "                if huruf in jumlah_huruf_non_kapital:\n",
    "                    jumlah_huruf_non_kapital[huruf] += 1\n",
    "                else:\n",
    "                    jumlah_huruf_non_kapital[huruf] = 1\n",
    "\n",
    "    # Mengurutkan huruf kapital dan huruf non-kapital berdasarkan abjad\n",
    "    huruf_urut_kapital = sorted(jumlah_huruf_kapital.items())\n",
    "    huruf_urut_non_kapital = sorted(jumlah_huruf_non_kapital.items())\n",
    "\n",
    "    # Menggabungkan hasil huruf kapital dan non-kapital dalam format yang diminta\n",
    "    hasil = huruf_urut_kapital + huruf_urut_non_kapital\n",
    "\n",
    "    return hasil\n",
    "\n",
    "kalimat = input(\"Masukkan sebuah kalimat: \")\n",
    "hasil = hitung_dan_urutkan_huruf(kalimat)\n",
    "\n",
    "print(\"Hasil:\")\n",
    "output = \", \".join([f'\"{huruf}\":{jumlah}' for huruf, jumlah in hasil])\n",
    "print(\"[\" + output + \"]\")\n"
   ]
  }
 ],
 "metadata": {
  "kernelspec": {
   "display_name": "Python 3",
   "language": "python",
   "name": "python3"
  },
  "language_info": {
   "codemirror_mode": {
    "name": "ipython",
    "version": 3
   },
   "file_extension": ".py",
   "mimetype": "text/x-python",
   "name": "python",
   "nbconvert_exporter": "python",
   "pygments_lexer": "ipython3",
   "version": "3.11.8"
  }
 },
 "nbformat": 4,
 "nbformat_minor": 2
}
