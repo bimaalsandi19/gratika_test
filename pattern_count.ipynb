{
 "cells": [
  {
   "cell_type": "code",
   "execution_count": 27,
   "metadata": {},
   "outputs": [],
   "source": [
    "# Funsi pattern count dengna parameter text dan pattern\n",
    "def pattern_count(text, pattern):\n",
    "    count = text.count(pattern)\n",
    "    return count    "
   ]
  },
  {
   "cell_type": "code",
   "execution_count": 23,
   "metadata": {},
   "outputs": [],
   "source": [
    "# proses input data text dan pattenr\n",
    "text = input(\"Masukkan text :\")\n",
    "pattern = input(\"Masukkan pattern :\")"
   ]
  },
  {
   "cell_type": "code",
   "execution_count": 24,
   "metadata": {},
   "outputs": [],
   "source": [
    "pattern_count = pattern_count(text,pattern)"
   ]
  },
  {
   "cell_type": "code",
   "execution_count": 25,
   "metadata": {},
   "outputs": [
    {
     "name": "stdout",
     "output_type": "stream",
     "text": [
      "Jumlah kemunculan pola 'hello' dalam text 'hell' adalah : '0'\n"
     ]
    }
   ],
   "source": [
    "print(f\"Jumlah kemunculan pola '{pattern}' dalam text '{ text }' adalah : '{ pattern_count }'\")"
   ]
  }
 ],
 "metadata": {
  "kernelspec": {
   "display_name": "Python 3",
   "language": "python",
   "name": "python3"
  },
  "language_info": {
   "codemirror_mode": {
    "name": "ipython",
    "version": 3
   },
   "file_extension": ".py",
   "mimetype": "text/x-python",
   "name": "python",
   "nbconvert_exporter": "python",
   "pygments_lexer": "ipython3",
   "version": "3.11.8"
  }
 },
 "nbformat": 4,
 "nbformat_minor": 2
}
